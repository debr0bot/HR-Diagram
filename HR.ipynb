{
 "cells": [
  {
   "cell_type": "code",
   "execution_count": 1,
   "metadata": {},
   "outputs": [],
   "source": [
    "from astropy.io import fits\n",
    "import matplotlib.pyplot as plt\n",
    "import pandas as pd\n",
    "import numpy as np\n",
    "import math"
   ]
  },
  {
   "cell_type": "code",
   "execution_count": 2,
   "metadata": {},
   "outputs": [
    {
     "data": {
      "text/plain": [
       "[<astropy.io.fits.hdu.image.PrimaryHDU object at 0x00000159C6ED2208>]"
      ]
     },
     "execution_count": 2,
     "metadata": {},
     "output_type": "execute_result"
    }
   ],
   "source": [
    "hdul = fits.open('masterbias.fit')\n",
    "hdul"
   ]
  },
  {
   "cell_type": "code",
   "execution_count": 3,
   "metadata": {},
   "outputs": [
    {
     "name": "stdout",
     "output_type": "stream",
     "text": [
      "Filename: masterbias.fit\n",
      "No.    Name      Ver    Type      Cards   Dimensions   Format\n",
      "  0  PRIMARY       1 PrimaryHDU      40   (2048, 2048)   float32   \n"
     ]
    }
   ],
   "source": [
    "hdul.info()"
   ]
  },
  {
   "cell_type": "code",
   "execution_count": 4,
   "metadata": {},
   "outputs": [
    {
     "name": "stdout",
     "output_type": "stream",
     "text": [
      "SIMPLE  =                    T                                                  \n",
      "BITPIX  =                  -32 /8 unsigned int, 16 & 32 int, -32 & -64 real     \n",
      "NAXIS   =                    2 /number of axes                                  \n",
      "NAXIS1  =                 2048 /fastest changing axis                           \n",
      "NAXIS2  =                 2048 /next to fastest changing axis                   \n",
      "BSCALE  =   1.0000000000000000 /physical = BZERO + BSCALE*array_value           \n",
      "BZERO   =  0.00000000000000000 /physical = BZERO + BSCALE*array_value           \n",
      "OBJECT  = '        '                                                            \n",
      "TELESCOP= '        ' /          telescope used to acquire this image            \n",
      "INSTRUME= 'Andor Tech'                                                          \n",
      "OBSERVER= '        '                                                            \n",
      "NOTES   = '        '                                                            \n",
      "DATE-OBS= '2009-09-01T18:58:14' /YYYY-MM-DDThh:mm:ss observation start, UT      \n",
      "EXPTIME =  0.00000000000000000 /Exposure time in seconds                        \n",
      "EXPOSURE=  0.00000000000000000 /Exposure time in seconds                        \n",
      "SET-TEMP=  -75.000000000000000 /CCD temperature setpoint in C                   \n",
      "CCD-TEMP=  -74.588233947753906 /CCD temperature at start of exposure in C       \n",
      "XPIXSZ  =   13.500000000000000 /Pixel Width in microns (after binning)          \n",
      "YPIXSZ  =   13.500000000000000 /Pixel Height in microns (after binning)         \n",
      "XBINNING=                    1 /Binning factor in width                         \n",
      "YBINNING=                    1 /Binning factor in height                        \n",
      "XORGSUBF=                    0 /Subframe X position in binned pixels            \n",
      "YORGSUBF=                    0 /Subframe Y position in binned pixels            \n",
      "IMAGETYP= 'Bias Frame' /        Type of image                                   \n",
      "SITELAT = '00 00 00' /          Latitude of the imaging location                \n",
      "SITELONG= '00 00 00' /          Longitude of the imaging location               \n",
      "FOCALLEN=  0.00000000000000000 /Focal length of telescope in mm                 \n",
      "APTDIA  =  0.00000000000000000 /Aperture diameter of telescope in mm            \n",
      "APTAREA =  0.00000000000000000 /Aperture area of telescope in mm^2              \n",
      "SWCREATE= 'MaxIm DL Version 5.06' /Name of software that created the image      \n",
      "SBSTDVER= 'SBFITSEXT Version 1.0' /Version of SBFITSEXT standard in effect      \n",
      "FLIPSTAT= 'Mirror/Rotate 90 CCW'                                                \n",
      "CSTRETCH= 'Medium  ' /          Initial display stretch mode                    \n",
      "CBLACK  =                  545 /Initial display black level in ADUs             \n",
      "CWHITE  =                  548 /Initial display white level in ADUs             \n",
      "PEDESTAL=                    0 /Correction to add for zero-based ADU            \n",
      "SWOWNER = 'IOANNIS PAPACHRISTOPOULOS' /Licensed owner of software               \n",
      "INPUTFMT= 'FITS    ' /          Format of file from which image was read        \n",
      "SNAPSHOT=                    6 /Number of images combined                       \n",
      "MIDPOINT= '2009-09-01T20:26:09' /UT of midpoint of exposure                     \n"
     ]
    }
   ],
   "source": [
    "hdr = hdul[0].header\n",
    "print(repr(hdr))"
   ]
  },
  {
   "cell_type": "code",
   "execution_count": 5,
   "metadata": {},
   "outputs": [
    {
     "data": {
      "text/plain": [
       "array([[547. , 547. , 548. , ..., 546. , 548. , 547. ],\n",
       "       [547. , 547. , 545. , ..., 545.5, 547.5, 545.5],\n",
       "       [547. , 546.5, 545. , ..., 545. , 545. , 545.5],\n",
       "       ...,\n",
       "       [545. , 546.5, 545.5, ..., 544.5, 545.5, 544.5],\n",
       "       [544.5, 545. , 544. , ..., 548.5, 547.5, 546. ],\n",
       "       [546. , 543.5, 545. , ..., 548.5, 548. , 546.5]], dtype=float32)"
      ]
     },
     "execution_count": 5,
     "metadata": {},
     "output_type": "execute_result"
    }
   ],
   "source": [
    "hdul[0].data\n"
   ]
  },
  {
   "cell_type": "code",
   "execution_count": 6,
   "metadata": {},
   "outputs": [
    {
     "data": {
      "text/plain": [
       "[<astropy.io.fits.hdu.image.PrimaryHDU object at 0x00000159C6EDB780>]"
      ]
     },
     "execution_count": 6,
     "metadata": {},
     "output_type": "execute_result"
    }
   ],
   "source": [
    "hdul1 = fits.open('m29_b_exptime10s.fit')\n",
    "hdul1"
   ]
  },
  {
   "cell_type": "code",
   "execution_count": 7,
   "metadata": {},
   "outputs": [
    {
     "name": "stdout",
     "output_type": "stream",
     "text": [
      "Filename: m29_b_exptime10s.fit\n",
      "No.    Name      Ver    Type      Cards   Dimensions   Format\n",
      "  0  PRIMARY       1 PrimaryHDU      38   (2048, 2048)   int16 (rescales to uint16)   \n"
     ]
    }
   ],
   "source": [
    "hdul1.info()"
   ]
  },
  {
   "cell_type": "code",
   "execution_count": 8,
   "metadata": {},
   "outputs": [
    {
     "name": "stdout",
     "output_type": "stream",
     "text": [
      "SIMPLE  =                    T                                                  \n",
      "BITPIX  =                   16 /8 unsigned int, 16 & 32 int, -32 & -64 real     \n",
      "NAXIS   =                    2 /number of axes                                  \n",
      "NAXIS1  =                 2048 /fastest changing axis                           \n",
      "NAXIS2  =                 2048 /next to fastest changing axis                   \n",
      "BSCALE  =   1.0000000000000000 /physical = BZERO + BSCALE*array_value           \n",
      "BZERO   =   32768.000000000000 /physical = BZERO + BSCALE*array_value           \n",
      "OBJECT  = '        '                                                            \n",
      "TELESCOP= '        ' /          telescope used to acquire this image            \n",
      "INSTRUME= 'Andor Tech'                                                          \n",
      "OBSERVER= '        '                                                            \n",
      "NOTES   = '        '                                                            \n",
      "DATE-OBS= '2009-09-01T19:12:56' /YYYY-MM-DDThh:mm:ss observation start, UT      \n",
      "EXPTIME =   10.000000000000000 /Exposure time in seconds                        \n",
      "EXPOSURE=   10.000000000000000 /Exposure time in seconds                        \n",
      "SET-TEMP=  -75.000000000000000 /CCD temperature setpoint in C                   \n",
      "CCD-TEMP=  -74.588233947753906 /CCD temperature at start of exposure in C       \n",
      "XPIXSZ  =   13.500000000000000 /Pixel Width in microns (after binning)          \n",
      "YPIXSZ  =   13.500000000000000 /Pixel Height in microns (after binning)         \n",
      "XBINNING=                    1 /Binning factor in width                         \n",
      "YBINNING=                    1 /Binning factor in height                        \n",
      "XORGSUBF=                    0 /Subframe X position in binned pixels            \n",
      "YORGSUBF=                    0 /Subframe Y position in binned pixels            \n",
      "FILTER  = 'B       ' /          Filter used when taking image                   \n",
      "IMAGETYP= 'Light Frame' /       Type of image                                   \n",
      "SITELAT = '00 00 00' /          Latitude of the imaging location                \n",
      "SITELONG= '00 00 00' /          Longitude of the imaging location               \n",
      "FOCALLEN=  0.00000000000000000 /Focal length of telescope in mm                 \n",
      "APTDIA  =  0.00000000000000000 /Aperture diameter of telescope in mm            \n",
      "APTAREA =  0.00000000000000000 /Aperture area of telescope in mm^2              \n",
      "SWCREATE= 'MaxIm DL Version 5.06' /Name of software that created the image      \n",
      "SBSTDVER= 'SBFITSEXT Version 1.0' /Version of SBFITSEXT standard in effect      \n",
      "FLIPSTAT= 'Mirror/Rotate 90 CCW'                                                \n",
      "CSTRETCH= 'High    ' /          Initial display stretch mode                    \n",
      "CBLACK  =                  546 /Initial display black level in ADUs             \n",
      "CWHITE  =                  652 /Initial display white level in ADUs             \n",
      "PEDESTAL=                    0 /Correction to add for zero-based ADU            \n",
      "SWOWNER = 'IOANNIS PAPACHRISTOPOULOS' /Licensed owner of software               \n"
     ]
    }
   ],
   "source": [
    "hdr1 = hdul1[0].header\n",
    "print(repr(hdr1))"
   ]
  },
  {
   "cell_type": "code",
   "execution_count": 9,
   "metadata": {},
   "outputs": [
    {
     "data": {
      "text/plain": [
       "array([[559, 545, 546, ..., 556, 553, 544],\n",
       "       [557, 553, 550, ..., 555, 553, 551],\n",
       "       [557, 554, 554, ..., 555, 553, 556],\n",
       "       ...,\n",
       "       [567, 562, 560, ..., 560, 559, 567],\n",
       "       [564, 560, 563, ..., 567, 562, 563],\n",
       "       [560, 562, 563, ..., 561, 564, 559]], dtype=uint16)"
      ]
     },
     "execution_count": 9,
     "metadata": {},
     "output_type": "execute_result"
    }
   ],
   "source": [
    "hdul1[0].data"
   ]
  },
  {
   "cell_type": "code",
   "execution_count": 10,
   "metadata": {},
   "outputs": [
    {
     "data": {
      "text/plain": [
       "[<astropy.io.fits.hdu.image.PrimaryHDU object at 0x00000159C7F1E828>]"
      ]
     },
     "execution_count": 10,
     "metadata": {},
     "output_type": "execute_result"
    }
   ],
   "source": [
    "hdul2 = fits.open('m29_b_exptime30s.fit')\n",
    "hdul2"
   ]
  },
  {
   "cell_type": "code",
   "execution_count": 11,
   "metadata": {
    "scrolled": true
   },
   "outputs": [
    {
     "name": "stdout",
     "output_type": "stream",
     "text": [
      "Filename: m29_b_exptime30s.fit\n",
      "No.    Name      Ver    Type      Cards   Dimensions   Format\n",
      "  0  PRIMARY       1 PrimaryHDU      38   (2048, 2048)   int16 (rescales to uint16)   \n"
     ]
    }
   ],
   "source": [
    "hdul2.info()"
   ]
  },
  {
   "cell_type": "code",
   "execution_count": 12,
   "metadata": {},
   "outputs": [
    {
     "data": {
      "text/plain": [
       "array([[564, 566, 561, ..., 570, 569, 570],\n",
       "       [573, 573, 570, ..., 565, 573, 576],\n",
       "       [568, 572, 567, ..., 576, 575, 577],\n",
       "       ...,\n",
       "       [596, 594, 594, ..., 596, 603, 594],\n",
       "       [595, 599, 599, ..., 589, 596, 582],\n",
       "       [588, 590, 588, ..., 593, 599, 590]], dtype=uint16)"
      ]
     },
     "execution_count": 12,
     "metadata": {},
     "output_type": "execute_result"
    }
   ],
   "source": [
    "hdul2[0].data.shape\n",
    "hdul2[0].data"
   ]
  },
  {
   "cell_type": "code",
   "execution_count": 13,
   "metadata": {},
   "outputs": [
    {
     "data": {
      "text/plain": [
       "[<astropy.io.fits.hdu.image.PrimaryHDU object at 0x00000159C6EB4F98>]"
      ]
     },
     "execution_count": 13,
     "metadata": {},
     "output_type": "execute_result"
    }
   ],
   "source": [
    "hdul3 = fits.open('m29_b_exptime60s.fit')\n",
    "hdul3"
   ]
  },
  {
   "cell_type": "code",
   "execution_count": 14,
   "metadata": {},
   "outputs": [
    {
     "name": "stdout",
     "output_type": "stream",
     "text": [
      "Filename: m29_b_exptime60s.fit\n",
      "No.    Name      Ver    Type      Cards   Dimensions   Format\n",
      "  0  PRIMARY       1 PrimaryHDU      38   (2048, 2048)   int16 (rescales to uint16)   \n"
     ]
    }
   ],
   "source": [
    "hdul3.info()"
   ]
  },
  {
   "cell_type": "code",
   "execution_count": 15,
   "metadata": {},
   "outputs": [
    {
     "data": {
      "text/plain": [
       "array([[591, 592, 601, ..., 597, 597, 596],\n",
       "       [601, 597, 594, ..., 601, 592, 597],\n",
       "       [604, 603, 593, ..., 597, 590, 604],\n",
       "       ...,\n",
       "       [649, 642, 641, ..., 629, 634, 640],\n",
       "       [653, 633, 642, ..., 636, 641, 638],\n",
       "       [635, 643, 634, ..., 634, 634, 638]], dtype=uint16)"
      ]
     },
     "execution_count": 15,
     "metadata": {},
     "output_type": "execute_result"
    }
   ],
   "source": [
    "hdul3[0].data"
   ]
  },
  {
   "cell_type": "code",
   "execution_count": 16,
   "metadata": {},
   "outputs": [
    {
     "name": "stdout",
     "output_type": "stream",
     "text": [
      "Filename: m29_v_exptime10s.fit\n",
      "No.    Name      Ver    Type      Cards   Dimensions   Format\n",
      "  0  PRIMARY       1 PrimaryHDU      38   (2048, 2048)   int16 (rescales to uint16)   \n"
     ]
    }
   ],
   "source": [
    "hdul4 = fits.open('m29_v_exptime10s.fit')\n",
    "hdul4.info()"
   ]
  },
  {
   "cell_type": "code",
   "execution_count": 17,
   "metadata": {},
   "outputs": [
    {
     "data": {
      "text/plain": [
       "array([[556, 554, 557, ..., 557, 557, 565],\n",
       "       [560, 556, 560, ..., 556, 556, 558],\n",
       "       [563, 555, 557, ..., 557, 562, 560],\n",
       "       ...,\n",
       "       [570, 567, 569, ..., 569, 563, 570],\n",
       "       [573, 572, 568, ..., 561, 570, 568],\n",
       "       [558, 569, 568, ..., 578, 571, 569]], dtype=uint16)"
      ]
     },
     "execution_count": 17,
     "metadata": {},
     "output_type": "execute_result"
    }
   ],
   "source": [
    "hdul4[0].data"
   ]
  },
  {
   "cell_type": "code",
   "execution_count": 18,
   "metadata": {},
   "outputs": [
    {
     "name": "stdout",
     "output_type": "stream",
     "text": [
      "Filename: m29_v_exptime30s.fit\n",
      "No.    Name      Ver    Type      Cards   Dimensions   Format\n",
      "  0  PRIMARY       1 PrimaryHDU      38   (2048, 2048)   int16 (rescales to uint16)   \n"
     ]
    }
   ],
   "source": [
    "hdul5 = fits.open('m29_v_exptime30s.fit')\n",
    "hdul5.info()"
   ]
  },
  {
   "cell_type": "code",
   "execution_count": 19,
   "metadata": {},
   "outputs": [
    {
     "data": {
      "text/plain": [
       "array([[580, 579, 583, ..., 588, 582, 586],\n",
       "       [590, 581, 580, ..., 586, 581, 588],\n",
       "       [591, 582, 590, ..., 585, 588, 586],\n",
       "       ...,\n",
       "       [616, 619, 621, ..., 616, 618, 617],\n",
       "       [635, 609, 617, ..., 622, 617, 620],\n",
       "       [605, 612, 612, ..., 614, 614, 616]], dtype=uint16)"
      ]
     },
     "execution_count": 19,
     "metadata": {},
     "output_type": "execute_result"
    }
   ],
   "source": [
    "hdul5[0].data"
   ]
  },
  {
   "cell_type": "code",
   "execution_count": 20,
   "metadata": {},
   "outputs": [
    {
     "name": "stdout",
     "output_type": "stream",
     "text": [
      "Filename: m29_v_exptime60s.fit\n",
      "No.    Name      Ver    Type      Cards   Dimensions   Format\n",
      "  0  PRIMARY       1 PrimaryHDU      38   (2048, 2048)   int16 (rescales to uint16)   \n"
     ]
    }
   ],
   "source": [
    "hdul6 = fits.open('m29_v_exptime60s.fit')\n",
    "hdul6.info()"
   ]
  },
  {
   "cell_type": "code",
   "execution_count": 21,
   "metadata": {},
   "outputs": [
    {
     "data": {
      "text/plain": [
       "array([[608, 619, 636, ..., 618, 637, 618],\n",
       "       [626, 625, 617, ..., 622, 625, 634],\n",
       "       [617, 622, 615, ..., 629, 641, 623],\n",
       "       ...,\n",
       "       [713, 683, 691, ..., 690, 695, 692],\n",
       "       [705, 680, 703, ..., 689, 690, 690],\n",
       "       [674, 688, 682, ..., 699, 690, 686]], dtype=uint16)"
      ]
     },
     "execution_count": 21,
     "metadata": {},
     "output_type": "execute_result"
    }
   ],
   "source": [
    "hdul6[0].data"
   ]
  },
  {
   "cell_type": "code",
   "execution_count": 22,
   "metadata": {},
   "outputs": [
    {
     "name": "stdout",
     "output_type": "stream",
     "text": [
      "Filename: normflatb.fit\n",
      "No.    Name      Ver    Type      Cards   Dimensions   Format\n",
      "  0  PRIMARY       1 PrimaryHDU      43   (2048, 2048)   float32   \n"
     ]
    }
   ],
   "source": [
    "hdul7 = fits.open('normflatb.fit')\n",
    "hdul7.info()"
   ]
  },
  {
   "cell_type": "code",
   "execution_count": 23,
   "metadata": {},
   "outputs": [
    {
     "data": {
      "text/plain": [
       "array([[0.4893779 , 0.49937683, 0.52911305, ..., 0.56156063, 0.5604423 ,\n",
       "        0.55822515],\n",
       "       [0.54810077, 0.5383965 , 0.54366827, ..., 0.578915  , 0.5712626 ,\n",
       "        0.5661535 ],\n",
       "       [0.56316006, 0.5462643 , 0.5489401 , ..., 0.57897365, 0.5745773 ,\n",
       "        0.573089  ],\n",
       "       ...,\n",
       "       [1.0417376 , 0.99836427, 0.99190843, ..., 0.9819136 , 0.9829087 ,\n",
       "        0.9744586 ],\n",
       "       [1.0284781 , 0.9935256 , 0.98164415, ..., 0.97760063, 0.9830595 ,\n",
       "        0.9784281 ],\n",
       "       [0.8973162 , 0.9202516 , 0.9571969 , ..., 0.9706477 , 0.96277034,\n",
       "        0.95723414]], dtype=float32)"
      ]
     },
     "execution_count": 23,
     "metadata": {},
     "output_type": "execute_result"
    }
   ],
   "source": [
    "hdul7[0].data"
   ]
  },
  {
   "cell_type": "code",
   "execution_count": 24,
   "metadata": {},
   "outputs": [
    {
     "name": "stdout",
     "output_type": "stream",
     "text": [
      "Filename: normflatv.fit\n",
      "No.    Name      Ver    Type      Cards   Dimensions   Format\n",
      "  0  PRIMARY       1 PrimaryHDU      43   (2048, 2048)   float32   \n"
     ]
    }
   ],
   "source": [
    "hdul8 = fits.open('normflatv.fit')\n",
    "hdul8.info()"
   ]
  },
  {
   "cell_type": "code",
   "execution_count": 25,
   "metadata": {},
   "outputs": [
    {
     "data": {
      "text/plain": [
       "array([[0.6118583 , 0.6207484 , 0.6403889 , ..., 0.6727111 , 0.6746385 ,\n",
       "        0.67027396],\n",
       "       [0.66158855, 0.64872694, 0.654119  , ..., 0.6845194 , 0.6832767 ,\n",
       "        0.67885154],\n",
       "       [0.66757643, 0.65451485, 0.6568166 , ..., 0.6884911 , 0.6848528 ,\n",
       "        0.6822637 ],\n",
       "       ...,\n",
       "       [1.030115  , 0.99631095, 0.9882811 , ..., 0.99151564, 0.9994021 ,\n",
       "        0.98946   ],\n",
       "       [1.0216548 , 0.9961122 , 0.9851279 , ..., 0.99713045, 0.99628013,\n",
       "        0.9953119 ],\n",
       "       [0.92314523, 0.93643045, 0.96872234, ..., 0.9848966 , 0.9824741 ,\n",
       "        0.9752471 ]], dtype=float32)"
      ]
     },
     "execution_count": 25,
     "metadata": {},
     "output_type": "execute_result"
    }
   ],
   "source": [
    "hdul8[0].data"
   ]
  },
  {
   "cell_type": "code",
   "execution_count": 26,
   "metadata": {},
   "outputs": [
    {
     "data": {
      "text/plain": [
       "array([[12. , -2. , -2. , ..., 10. ,  5. , -3. ],\n",
       "       [10. ,  6. ,  5. , ...,  9.5,  5.5,  5.5],\n",
       "       [10. ,  7.5,  9. , ..., 10. ,  8. , 10.5],\n",
       "       ...,\n",
       "       [22. , 15.5, 14.5, ..., 15.5, 13.5, 22.5],\n",
       "       [19.5, 15. , 19. , ..., 18.5, 14.5, 17. ],\n",
       "       [14. , 18.5, 18. , ..., 12.5, 16. , 12.5]], dtype=float32)"
      ]
     },
     "execution_count": 26,
     "metadata": {},
     "output_type": "execute_result"
    }
   ],
   "source": [
    "# REMOVING BIAS FROM -B- FILTER IMAGES\n",
    "img_b_10 = hdul1[0].data - hdul[0].data\n",
    "img_b_10"
   ]
  },
  {
   "cell_type": "code",
   "execution_count": 27,
   "metadata": {},
   "outputs": [
    {
     "data": {
      "text/plain": [
       "array([[17. , 19. , 13. , ..., 24. , 21. , 23. ],\n",
       "       [26. , 26. , 25. , ..., 19.5, 25.5, 30.5],\n",
       "       [21. , 25.5, 22. , ..., 31. , 30. , 31.5],\n",
       "       ...,\n",
       "       [51. , 47.5, 48.5, ..., 51.5, 57.5, 49.5],\n",
       "       [50.5, 54. , 55. , ..., 40.5, 48.5, 36. ],\n",
       "       [42. , 46.5, 43. , ..., 44.5, 51. , 43.5]], dtype=float32)"
      ]
     },
     "execution_count": 27,
     "metadata": {},
     "output_type": "execute_result"
    }
   ],
   "source": [
    "img_b_30 = hdul2[0].data - hdul[0].data\n",
    "img_b_30"
   ]
  },
  {
   "cell_type": "code",
   "execution_count": 28,
   "metadata": {},
   "outputs": [
    {
     "data": {
      "text/plain": [
       "array([[ 44. ,  45. ,  53. , ...,  51. ,  49. ,  49. ],\n",
       "       [ 54. ,  50. ,  49. , ...,  55.5,  44.5,  51.5],\n",
       "       [ 57. ,  56.5,  48. , ...,  52. ,  45. ,  58.5],\n",
       "       ...,\n",
       "       [104. ,  95.5,  95.5, ...,  84.5,  88.5,  95.5],\n",
       "       [108.5,  88. ,  98. , ...,  87.5,  93.5,  92. ],\n",
       "       [ 89. ,  99.5,  89. , ...,  85.5,  86. ,  91.5]], dtype=float32)"
      ]
     },
     "execution_count": 28,
     "metadata": {},
     "output_type": "execute_result"
    }
   ],
   "source": [
    "img_b_60 = hdul3[0].data - hdul[0].data\n",
    "img_b_60"
   ]
  },
  {
   "cell_type": "code",
   "execution_count": 29,
   "metadata": {},
   "outputs": [
    {
     "data": {
      "text/plain": [
       "array([[ 9. ,  7. ,  9. , ..., 11. ,  9. , 18. ],\n",
       "       [13. ,  9. , 15. , ..., 10.5,  8.5, 12.5],\n",
       "       [16. ,  8.5, 12. , ..., 12. , 17. , 14.5],\n",
       "       ...,\n",
       "       [25. , 20.5, 23.5, ..., 24.5, 17.5, 25.5],\n",
       "       [28.5, 27. , 24. , ..., 12.5, 22.5, 22. ],\n",
       "       [12. , 25.5, 23. , ..., 29.5, 23. , 22.5]], dtype=float32)"
      ]
     },
     "execution_count": 29,
     "metadata": {},
     "output_type": "execute_result"
    }
   ],
   "source": [
    "# REMOVING BIAS FROM -V- FILTER IMAGES\n",
    "img_v_10 = hdul4[0].data - hdul[0].data\n",
    "img_v_10"
   ]
  },
  {
   "cell_type": "code",
   "execution_count": 30,
   "metadata": {},
   "outputs": [
    {
     "data": {
      "text/plain": [
       "array([[33. , 32. , 35. , ..., 42. , 34. , 39. ],\n",
       "       [43. , 34. , 35. , ..., 40.5, 33.5, 42.5],\n",
       "       [44. , 35.5, 45. , ..., 40. , 43. , 40.5],\n",
       "       ...,\n",
       "       [71. , 72.5, 75.5, ..., 71.5, 72.5, 72.5],\n",
       "       [90.5, 64. , 73. , ..., 73.5, 69.5, 74. ],\n",
       "       [59. , 68.5, 67. , ..., 65.5, 66. , 69.5]], dtype=float32)"
      ]
     },
     "execution_count": 30,
     "metadata": {},
     "output_type": "execute_result"
    }
   ],
   "source": [
    "img_v_30 = hdul5[0].data - hdul[0].data\n",
    "img_v_30"
   ]
  },
  {
   "cell_type": "code",
   "execution_count": 31,
   "metadata": {},
   "outputs": [
    {
     "data": {
      "text/plain": [
       "array([[ 61. ,  72. ,  88. , ...,  72. ,  89. ,  71. ],\n",
       "       [ 79. ,  78. ,  72. , ...,  76.5,  77.5,  88.5],\n",
       "       [ 70. ,  75.5,  70. , ...,  84. ,  96. ,  77.5],\n",
       "       ...,\n",
       "       [168. , 136.5, 145.5, ..., 145.5, 149.5, 147.5],\n",
       "       [160.5, 135. , 159. , ..., 140.5, 142.5, 144. ],\n",
       "       [128. , 144.5, 137. , ..., 150.5, 142. , 139.5]], dtype=float32)"
      ]
     },
     "execution_count": 31,
     "metadata": {},
     "output_type": "execute_result"
    }
   ],
   "source": [
    "img_v_60 = hdul6[0].data - hdul[0].data\n",
    "img_v_60"
   ]
  },
  {
   "cell_type": "code",
   "execution_count": 32,
   "metadata": {},
   "outputs": [
    {
     "name": "stdout",
     "output_type": "stream",
     "text": [
      "[[ 99.69628  115.98902  137.4165   ... 107.0296   131.9225   105.926834]\n",
      " [119.40956  120.23549  110.07171  ... 111.75724  113.424034 130.36723 ]\n",
      " [104.85691  115.352615 106.57465  ... 122.005936 140.17612  113.592445]\n",
      " ...\n",
      " [163.0886   137.00542  147.22533  ... 146.74504  149.58943  149.07121 ]\n",
      " [157.09807  135.5269   161.40036  ... 140.90433  143.03206  144.67827 ]\n",
      " [138.6564   154.30937  141.42339  ... 152.80792  144.53308  143.04068 ]]\n",
      "[[53.934055 51.55068  54.65429  ... 62.433937 50.39736  58.185165]\n",
      " [64.99508  52.41034  53.507084 ... 59.165596 49.028454 62.605736]\n",
      " [65.91006  54.238647 68.512276 ... 58.098064 62.787216 59.361214]\n",
      " ...\n",
      " [68.92434  72.76845  76.39527  ... 72.111824 72.54337  73.27229 ]\n",
      " [88.58177  64.24979  74.10205  ... 73.71152  69.7595   74.34855 ]\n",
      " [63.911938 73.15012  69.16326  ... 66.50444  67.177345 71.26399 ]]\n",
      "[[14.709288  11.2767105 14.05396   ... 16.351746  13.340478  26.85469  ]\n",
      " [19.649675  13.873325  22.931606  ... 15.339229  12.440055  18.413452 ]\n",
      " [23.967293  12.986718  18.26994   ... 17.429419  24.822853  21.25278  ]\n",
      " ...\n",
      " [24.269135  20.575905  23.77866   ... 24.709646  17.51047   25.771633 ]\n",
      " [27.895918  27.10538   24.362318  ... 12.535973  22.58401   22.103624 ]\n",
      " [12.999038  27.231066  23.742613  ... 29.952383  23.410286  23.071075 ]]\n"
     ]
    }
   ],
   "source": [
    "# CALIBRATING -V- FILTER IMAGES\n",
    "im_v_60_cal = img_v_60/hdul8[0].data\n",
    "print(im_v_60_cal)\n",
    "im_v_30_cal = img_v_30/hdul8[0].data\n",
    "print(im_v_30_cal)\n",
    "im_v_10_cal = img_v_10/hdul8[0].data\n",
    "print(im_v_10_cal)"
   ]
  },
  {
   "cell_type": "code",
   "execution_count": 33,
   "metadata": {},
   "outputs": [
    {
     "data": {
      "text/plain": [
       "array([[1.6833963, 1.788164 , 2.0612476, ..., 1.8581527, 1.9566034,\n",
       "        1.9096669],\n",
       "       [2.0405433, 1.8651915, 1.8651041, ..., 1.8626206, 1.7489254,\n",
       "        2.1138642],\n",
       "       [1.9473425, 1.8257797, 1.9335687, ..., 1.9753342, 2.2778618,\n",
       "        1.9420645],\n",
       "       ...,\n",
       "       [2.5628207, 2.3034976, 2.4739926, ..., 2.4356651, 2.3964329,\n",
       "        2.4811513],\n",
       "       [2.7357574, 2.2688208, 2.5986474, ..., 2.2715182, 2.3537557,\n",
       "        2.4113042],\n",
       "       [2.1556737, 2.5469055, 2.3432925, ..., 2.4926474, 2.351207 ,\n",
       "        2.3737574]], dtype=float32)"
      ]
     },
     "execution_count": 33,
     "metadata": {},
     "output_type": "execute_result"
    }
   ],
   "source": [
    "# FLUX/TIME=SUM OF ALL PIXEL VALUES/TOTAL EXPTIME(100)\n",
    "img_v = (im_v_10_cal +im_v_30_cal + im_v_60_cal)/100\n",
    "img_v"
   ]
  },
  {
   "cell_type": "code",
   "execution_count": 34,
   "metadata": {},
   "outputs": [
    {
     "name": "stdout",
     "output_type": "stream",
     "text": [
      "[[ 89.91007   90.11231  100.167625 ...  90.81833   87.43094   87.7782  ]\n",
      " [ 98.522026  92.86836   90.12849  ...  95.868996  77.89763   90.96472 ]\n",
      " [101.21456  103.42979   87.44123  ...  89.8141    78.31845  102.078384]\n",
      " ...\n",
      " [ 99.833206  95.65647   96.279045 ...  86.05645   90.03888   98.00314 ]\n",
      " [105.49568   88.573456  99.83251  ...  89.50485   95.11123   94.028366]\n",
      " [ 99.184654 108.122604  92.97983  ...  88.08551   89.32556   95.5879  ]]\n",
      "[[34.73798  38.04742  24.569418 ... 42.738037 37.4704   41.20201 ]\n",
      " [47.43653  48.29155  45.983925 ... 33.6837   44.637966 53.872314]\n",
      " [37.289577 46.680702 40.077232 ... 53.543022 52.2123   54.965282]\n",
      " ...\n",
      " [48.95667  47.577824 48.89564  ... 52.448605 58.499836 50.79744 ]\n",
      " [49.101677 54.351894 56.02845  ... 41.42796  49.33577  36.79371 ]\n",
      " [46.80624  50.52966  44.922836 ... 45.845676 52.972134 45.443428]]\n",
      "[[24.520927  -4.0049915 -3.7799106 ... 17.807516   8.921525  -5.3741755]\n",
      " [18.24482   11.144204   9.196785  ... 16.410007   9.627796   9.71468  ]\n",
      " [17.75694   13.729618  16.395231  ... 17.271944  13.92328   18.321762 ]\n",
      " ...\n",
      " [21.118563  15.525395  14.618285  ... 15.785502  13.734744  23.089745 ]\n",
      " [18.960052  15.097749  19.355282  ... 18.923883  14.749869  17.374807 ]\n",
      " [15.60208   20.103197  18.804909  ... 12.877999  16.61871   13.058456 ]]\n"
     ]
    }
   ],
   "source": [
    "# CALIBRATING -B- FILTER IMAGES\n",
    "im_b_60_cal = img_b_60/hdul7[0].data\n",
    "print(im_b_60_cal)\n",
    "im_b_30_cal = img_b_30/hdul7[0].data\n",
    "print(im_b_30_cal)\n",
    "im_b_10_cal = img_b_10/hdul7[0].data\n",
    "print(im_b_10_cal)"
   ]
  },
  {
   "cell_type": "code",
   "execution_count": 35,
   "metadata": {},
   "outputs": [
    {
     "data": {
      "text/plain": [
       "array([[1.4916898, 1.2415473, 1.2095714, ..., 1.513639 , 1.3382286,\n",
       "        1.2360604],\n",
       "       [1.6420337, 1.5230411, 1.4530921, ..., 1.459627 , 1.3216339,\n",
       "        1.5455171],\n",
       "       [1.5626107, 1.638401 , 1.439137 , ..., 1.6062906, 1.4445404,\n",
       "        1.7536544],\n",
       "       ...,\n",
       "       [1.6990845, 1.5875969, 1.5979297, ..., 1.5429056, 1.6227347,\n",
       "        1.7189032],\n",
       "       [1.735574 , 1.5802311, 1.7521625, ..., 1.4985669, 1.5919687,\n",
       "        1.4819689],\n",
       "       [1.6159297, 1.7875546, 1.5670758, ..., 1.4680918, 1.5891641,\n",
       "        1.5408978]], dtype=float32)"
      ]
     },
     "execution_count": 35,
     "metadata": {},
     "output_type": "execute_result"
    }
   ],
   "source": [
    "# FLUX/TIME=SUM OF ALL PIXEL VALUES/TOTAL EXPTIME(100)\n",
    "img_b = (im_b_10_cal + im_b_30_cal + im_b_60_cal)/100\n",
    "img_b"
   ]
  },
  {
   "cell_type": "code",
   "execution_count": 43,
   "metadata": {},
   "outputs": [
    {
     "data": {
      "image/png": "[encoded data removed]",
      "text/plain": [
       "<Figure size 432x288 with 2 Axes>"
      ]
     },
     "metadata": {},
     "output_type": "display_data"
    },
    {
     "data": {
      "text/plain": [
       "<Figure size 432x288 with 0 Axes>"
      ]
     },
     "metadata": {},
     "output_type": "display_data"
    }
   ],
   "source": [
    "# IMAGE OF STARS USING -B- FILTER ON GRAYSCALE\n",
    "plt.style.use('dark_background')\n",
    "b_plot = plt.imshow(np.log10(img_b), cmap=plt.cm.gray)\n",
    "plt.colorbar()\n",
    "plt.show()\n",
    "plt.savefig(\"a.png\")\n"
   ]
  },
  {
   "cell_type": "code",
   "execution_count": 37,
   "metadata": {},
   "outputs": [
    {
     "data": {
      "image/png": "[encoded data removed]",
      "text/plain": [
       "<Figure size 432x288 with 2 Axes>"
      ]
     },
     "metadata": {},
     "output_type": "display_data"
    }
   ],
   "source": [
    "# IMAGE OF STARS USING -V- FILTER ON GRAYSCALE\n",
    "v_plot = plt.imshow(np.log10(img_v),  cmap=plt.cm.gray)\n",
    "plt.colorbar()\n",
    "plt.savefig(\"b.png\")"
   ]
  },
  {
   "cell_type": "code",
   "execution_count": 40,
   "metadata": {
    "scrolled": true
   },
   "outputs": [
    {
     "name": "stdout",
     "output_type": "stream",
     "text": [
      "28\n"
     ]
    },
    {
     "data": {
      "text/plain": [
       "array([[1128, 1285],\n",
       "       [ 541,  713],\n",
       "       [1128,  630],\n",
       "       [ 856,  852],\n",
       "       [1469, 1112],\n",
       "       [1027, 1496],\n",
       "       [ 649,  922],\n",
       "       [ 263,  948],\n",
       "       [1132, 1262],\n",
       "       [1131,  609],\n",
       "       [ 544,  689],\n",
       "       [ 859,  831],\n",
       "       [1223, 1103],\n",
       "       [1350, 1616],\n",
       "       [1002,  912],\n",
       "       [ 768,  174],\n",
       "       [1905,  946],\n",
       "       [1577, 1998],\n",
       "       [1025, 1364],\n",
       "       [ 767, 1477],\n",
       "       [1344, 1508],\n",
       "       [1407,  760],\n",
       "       [1934,  331],\n",
       "       [1405, 1281],\n",
       "       [ 912, 1003],\n",
       "       [1388, 1185],\n",
       "       [1197,  829],\n",
       "       [ 781,  761]], dtype=int64)"
      ]
     },
     "execution_count": 40,
     "metadata": {},
     "output_type": "execute_result"
    }
   ],
   "source": [
    "# 30 BRIGHTEST POINTS\n",
    "img_v_new = np.copy(img_v)\n",
    "img_b_new = np.copy(img_b)\n",
    "found = 0\n",
    "star_idx = []\n",
    "while found != 28:\n",
    "    r, c = np.unravel_index(np.argmax(img_v_new), img_v_new.shape)\n",
    "    star_idx.append([r, c])\n",
    "    img_v_new[r-20:r+21, c-20:c+21] = 0\n",
    "    found += 1\n",
    "print(len(star_idx))\n",
    "\n",
    "star_idx = np.asarray(star_idx)\n",
    "star_idx"
   ]
  },
  {
   "cell_type": "code",
   "execution_count": 41,
   "metadata": {},
   "outputs": [
    {
     "data": {
      "text/plain": [
       "array([5.21170235, 5.39612646, 5.36527701, 5.24793329, 5.43600619,\n",
       "       5.63326382, 3.40890831, 2.59877062, 2.40722345, 2.81636767,\n",
       "       4.03193841, 2.79714634, 1.80482194, 1.59153355, 1.80636996,\n",
       "       1.85771014, 2.22628219, 1.47588865, 1.74660091, 1.83413933,\n",
       "       1.90387926, 1.65251164, 1.70405333, 2.00110288, 1.7872051 ,\n",
       "       2.9687659 , 2.02674608, 1.95089967])"
      ]
     },
     "execution_count": 41,
     "metadata": {},
     "output_type": "execute_result"
    }
   ],
   "source": [
    "# PIXELS FOR THE BRIGHTEST POINTS\n",
    "m_v_list = []\n",
    "for star in star_idx:\n",
    "    r, c = star\n",
    "    m_v_list.append(-2.5*math.log10(img_v[r, c]))\n",
    "m_b_list = []\n",
    "for star in star_idx:\n",
    "    r, c = star\n",
    "    m_b_list.append(-2.5*math.log10(img_b[r, c]))\n",
    "m_v_list = np.asarray(m_v_list)\n",
    "m_b_list = np.asarray(m_b_list)\n",
    "\n",
    "b_v_list = m_b_list - m_v_list\n",
    "b_v_list"
   ]
  },
  {
   "cell_type": "code",
   "execution_count": 42,
   "metadata": {},
   "outputs": [
    {
     "data": {
      "image/png": "[encoded data removed]",
      "text/plain": [
       "<Figure size 432x288 with 1 Axes>"
      ]
     },
     "metadata": {},
     "output_type": "display_data"
    }
   ],
   "source": [
    "# PLOTTING THE HR \n",
    "plt.scatter(b_v_list - 1.5, m_v_list + 13, s=20, c='white')\n",
    "plt.gca().invert_yaxis()\n",
    "plt.xlabel('B - V mag')\n",
    "plt.ylabel('V mag')\n",
    "plt.title('HR_M29')\n",
    "plt.savefig(\"c.png\")"
   ]
  },
  {
   "cell_type": "code",
   "execution_count": null,
   "metadata": {},
   "outputs": [],
   "source": []
  }
 ],
 "metadata": {
  "kernelspec": {
   "display_name": "Python 3 (ipykernel)",
   "language": "python",
   "name": "python3"
  },
  "language_info": {
   "codemirror_mode": {
    "name": "ipython",
    "version": 3
   },
   "file_extension": ".py",
   "mimetype": "text/x-python",
   "name": "python",
   "nbconvert_exporter": "python",
   "pygments_lexer": "ipython3",
   "version": "3.9.7"
  }
 },
 "nbformat": 4,
 "nbformat_minor": 2
}
